{
 "cells": [
  {
   "cell_type": "code",
   "execution_count": 1,
   "id": "bb34a14a",
   "metadata": {},
   "outputs": [],
   "source": [
    "\n",
    "#Importing libraries\n",
    "\n",
    "import numpy as np\n",
    "import cv2\n",
    "import matplotlib.pyplot as plt\n",
    "import pickle\n",
    "import random\n",
    "from sklearn.model_selection import train_test_split\n",
    "from sklearn.svm import SVC\n",
    "from tensorflow.keras import datasets, layers, models\n",
    "import sklearn\n",
    "from sklearn.metrics import accuracy_score\n",
    "import glob\n",
    "import cv2\n",
    "import os\n",
    "import seaborn as sns\n",
    "import pandas as pd\n",
    "from skimage.filters import sobel\n",
    "from skimage.feature import greycomatrix, greycoprops\n",
    "from skimage.measure import shannon_entropy\n",
    "from tensorflow.keras.preprocessing.image import img_to_array\n",
    "from tensorflow.keras.utils import to_categorical, plot_model\n",
    "import tensorflow as tf\n",
    "from tensorflow import keras\n",
    "from tensorflow.keras.models import Sequential\n",
    "from tensorflow.keras.layers import BatchNormalization, Conv2D, Dense\n",
    "from tensorflow.keras.layers import MaxPooling2D, Activation, Flatten, Dropout\n",
    "from keras import optimizers\n",
    "from tensorflow.keras import optimizers\n",
    "from keras.models import Sequential\n",
    "from sklearn.metrics import f1_score\n",
    "from sklearn import metrics\n",
    "from sklearn.metrics import classification_report\n",
    "from sklearn.metrics import confusion_matrix"
   ]
  },
  {
   "cell_type": "code",
   "execution_count": 2,
   "id": "d24e6c20",
   "metadata": {},
   "outputs": [],
   "source": [
    "## initial parameters\n",
    "lr = 1e-2\n",
    "batch_size = 50 \n",
    "epochs = 100\n",
    "img_dims = (250,250,3) #specifying image dimensions\n",
    "\n",
    "data = []\n",
    "labels = []\n",
    "\n",
    "# loading image files\n",
    "image_files = [f for f in glob.glob(r'D:/Individual_Trees_photos/segall' + \"/**/*\",\n",
    "recursive=True) if not os.path.isdir(f)]\n",
    "\n",
    "random.shuffle(image_files)\n"
   ]
  },
  {
   "cell_type": "code",
   "execution_count": 3,
   "id": "2e464a34",
   "metadata": {},
   "outputs": [],
   "source": [
    "## converting images to arrays \n",
    "for img in image_files:\n",
    "\n",
    "    image = cv2.imread(img)\n",
    "    image = cv2.resize(image, (img_dims[0],img_dims[1]))\n",
    "    image = img_to_array(image)\n",
    "    data.append(image)\n",
    "\n",
    "    ## labelling the categories\n",
    "    label = img.split(os.path.sep)[-2] \n",
    "    if label == \"tree1\":\n",
    "        label = 0\n",
    "    elif label == \"tree2\":\n",
    "          label = 1\n",
    "        \n",
    "    elif label == \"tree3\":\n",
    "        label = 2\n",
    "        \n",
    "    else: \n",
    "        label = 3\n",
    "    labels.append([label])  # [[1], [0], [0], ...]"
   ]
  },
  {
   "cell_type": "code",
   "execution_count": 4,
   "id": "cc5d77ad",
   "metadata": {},
   "outputs": [
    {
     "name": "stdout",
     "output_type": "stream",
     "text": [
      "[[0], [1], [1], [2], [0], [1], [1], [3], [1], [0], [3], [3], [0], [2], [1], [1], [0], [2], [2], [1], [1], [0], [0], [0], [3], [1], [0], [3], [0], [0], [3], [1], [2], [2], [0], [2], [3], [2], [2], [3], [3], [0], [0], [3], [3], [2], [1], [1], [1], [0], [1], [0], [3], [0], [1], [2], [3], [3], [2], [3], [0], [3], [3], [3], [3], [2], [3], [3], [2], [1], [2], [1], [2], [1], [3], [3], [1], [0], [2], [1], [1], [0], [3], [0], [1], [1], [2], [1], [1], [3], [3], [2], [2], [1], [1], [2], [3], [2], [3], [2], [3], [3], [1], [2], [2], [3], [2], [3], [0], [3], [3], [3], [0], [2], [1], [0], [1], [2], [0], [1], [2], [3], [3], [0], [0], [1], [3], [3], [3], [2], [2], [3], [3], [2], [0], [3], [2], [0], [1], [3], [3], [1], [3], [3], [3], [3], [3], [0], [1], [3], [2], [1], [1], [0], [1], [3], [2], [0], [2], [0], [1], [3], [3], [2], [0], [1], [2], [3], [1], [0], [1], [0], [3], [2], [1], [2], [3], [0], [1], [0], [0], [2], [3], [1], [2], [0], [2], [0], [0], [3], [0], [1], [3], [0], [0], [3], [2], [3], [1], [3], [0], [2], [2], [3], [0], [0], [1], [2], [2], [1], [1], [0], [1], [0], [3], [3], [1], [1], [2], [0], [0], [1], [0], [3], [2], [0], [1], [3], [2], [2], [3], [0], [0], [1], [2], [3], [1], [1], [2], [0], [1], [0], [3], [0], [1], [2], [3], [3], [3], [1], [2], [0], [2], [0], [3], [2], [0], [0], [3], [2], [2], [1], [3], [3], [3], [3], [0], [0], [3], [2], [0], [3], [1], [1], [3], [1], [2], [2], [3], [1], [2], [3], [1], [3], [3], [3], [1], [2], [3], [1], [3], [1], [3], [2], [2], [2], [2], [2], [2], [2], [0], [2], [0], [2], [2], [1], [2], [3], [3], [2], [0], [0], [0], [2], [2], [3], [2], [0], [1], [2], [3], [3], [1], [2], [2], [2], [2], [0], [0], [1], [2], [0], [0], [3], [3], [0], [2], [3], [3], [0], [0], [1], [1], [3], [0], [0], [1], [1], [3], [1], [3], [1], [1], [0], [0], [0], [3], [3], [3], [3], [3], [2], [3], [3], [2], [0], [0], [1], [1], [0], [3], [0], [0], [0], [3], [2], [1], [1], [3], [3], [2], [0], [3], [2], [1], [2], [0], [2], [3], [3], [0], [1], [3], [2], [1], [3], [0], [2], [1], [3], [0], [3], [0], [3], [0], [1], [3], [1], [2], [3], [3], [3], [0], [0], [1], [0], [0], [1], [0], [0], [3], [1], [0], [0], [0], [1], [2], [0], [1], [3], [0], [1], [1], [0], [3], [1], [3], [1], [1], [0], [2], [1], [0], [0], [0], [2], [0], [0], [0], [3], [2], [1], [0], [2], [0], [3], [1], [3], [0], [2], [3], [3], [1], [1], [0], [0], [0], [1], [2], [3], [3], [2], [2], [3], [1], [1], [2], [2], [2], [2], [2], [3], [2], [0], [2], [1], [2], [3], [3], [3], [1], [3], [1], [2], [0], [3], [1], [3], [3], [2], [2], [1], [1], [3], [2], [3], [1], [3], [1], [2], [1], [3], [1], [2], [0], [1], [3], [0], [2], [0], [0], [0], [2], [1], [3], [1], [3], [0], [1], [1], [1], [2], [0], [0], [1], [3], [3], [2], [0], [0], [3], [1], [2], [0], [1], [2], [2], [2], [3], [2], [0], [2], [1], [2], [0], [0], [3], [0], [3], [3], [0], [3], [2], [3], [1], [1], [1], [1], [2], [0], [3], [2], [1], [2], [1], [3], [3], [2], [0], [0], [1], [2], [3], [3], [1], [2], [3], [2], [0], [2], [0], [3], [3], [3], [2], [0], [3], [1], [3], [3], [1], [2], [1], [1], [3], [0], [2], [2], [1], [2], [1], [3], [0], [0], [1], [3], [1], [0], [3], [0], [2], [2], [3], [3], [0], [3], [2], [2], [1], [0], [2], [1], [1], [1], [0], [3], [3], [0], [3], [2], [0], [1], [3], [2], [0], [1], [0], [1], [3], [0], [3], [1], [1], [1], [0], [0], [3], [0], [3], [3], [3], [1], [0], [3], [1], [0], [3], [0], [1], [1], [3], [3], [1], [2], [2], [3], [0], [2], [1], [1], [1], [1], [3], [0], [2], [1], [0], [0], [1], [2], [2], [3], [0], [3], [1], [1], [2], [2], [0], [2], [3], [2], [3], [3], [1], [0], [3], [2], [0], [1], [1], [0], [3], [3], [0], [0], [3], [3], [1], [2], [2], [1], [2], [0], [3], [1], [1], [2], [3], [1], [1], [2], [1], [0], [3], [2], [3], [1], [0], [1], [0], [1], [2], [2], [2], [2], [2], [1], [2], [3], [3], [0], [2], [1], [3], [3], [3], [3], [0], [3], [3], [2], [3], [1], [2], [0], [2], [0], [0], [3], [3], [1], [2], [1], [2], [2], [0], [3], [3], [1], [0], [3], [2], [1], [1], [1], [2], [0], [3], [2], [2], [3], [3], [3], [1], [0], [2], [3], [1], [0], [1], [3], [1], [2], [2], [3], [3], [1], [3], [2], [0], [3], [0], [2], [2], [1], [3], [0], [0], [0], [2], [1], [1], [2], [3], [1], [1], [3], [1], [3], [1], [3], [3], [1], [1], [3], [2], [1], [1], [3], [0], [3], [1], [2], [3], [0], [3], [1], [3], [0], [2], [3], [0], [3], [0], [3], [1], [3], [1], [2], [0], [3], [1], [2], [0], [3], [0], [0], [1], [1], [1], [0], [3], [3], [1], [3], [2], [1], [1], [2], [3], [1], [1], [3], [2], [1], [0], [3], [2], [2], [3], [2], [2], [1], [0], [1], [1], [1], [1], [2], [0], [1], [2], [1], [1], [2], [3], [1], [2], [0], [1], [1], [0], [1], [2], [1], [3], [3], [0], [1], [0], [2], [1], [0], [3], [3], [0], [2], [2], [1], [0], [3], [1], [3], [0], [2], [3], [3], [3], [3], [0], [0], [3], [1], [1], [3], [1], [2], [1], [3], [3], [1], [3], [3], [2], [3], [3], [0], [2], [1], [3], [2], [2], [1], [2], [1], [1], [0], [0], [0], [3], [3], [2], [3], [1], [2], [1], [2], [1], [2], [0], [2], [3], [0], [3], [2], [0], [3], [3], [0], [2], [2], [0], [3], [0], [1], [2], [2], [1], [1], [2], [3], [1], [1], [3], [3], [3], [3], [2], [2], [0], [2], [0], [1], [0], [0], [1], [1], [2], [0], [3], [3], [0], [2], [0], [2], [2], [1], [2], [2], [1], [0], [0], [1], [0], [1], [1], [2], [3], [3], [1], [2], [1], [1], [3], [3], [2], [3], [3], [1], [3], [3], [3], [1], [0], [2], [0], [2], [0], [1], [3], [2], [3], [1], [2], [2], [1], [2], [3], [3], [2], [3], [3], [2], [0], [1], [1], [0], [3], [1], [2], [3], [3], [1], [2], [3], [0], [3], [3], [0], [2], [3], [1], [3], [3], [1], [3], [2], [3], [0], [2], [1], [3], [3], [0], [3], [3], [3], [0], [0], [0], [3], [1], [2], [0], [0], [3], [0], [0], [2], [1], [2], [2], [0], [3], [1], [1], [3], [2], [2], [3], [0], [2], [2], [2], [1], [1], [3], [3], [3], [1], [2], [0], [1], [2], [2], [1], [3], [3], [2], [0], [2], [1], [0], [2], [2], [2], [1], [1], [0], [2], [1], [0], [1], [2], [2], [3], [0], [1], [1], [2], [1], [2], [1], [3], [2], [0], [0], [1], [1], [0], [0], [2], [0], [3], [1], [0], [1], [2], [3], [1], [1], [2], [2], [1], [0], [0], [3], [0], [2], [2], [3], [0], [0], [0], [2], [1], [3], [2], [0], [3], [0], [3], [3], [2], [2], [2], [2], [0], [0], [0], [3], [3], [3], [3], [3], [2], [2], [1], [3], [3], [0], [0], [2], [2], [2], [3], [2], [0], [0], [1], [3], [3], [2], [1], [3], [1], [2], [2], [2], [1], [3], [2], [3], [3], [2], [0], [3], [1], [2], [0], [3], [2], [3], [2], [2], [0], [3], [1], [1], [2], [0], [1], [3], [2], [3], [0], [3], [2], [1], [2], [1], [0], [3], [2], [0], [0], [2], [3], [0], [3], [1], [2], [2], [1], [0], [1], [2], [3], [1], [3], [0], [3], [1], [3], [3], [2], [2], [0], [2], [1], [3], [3], [1], [2], [3], [1], [2], [2], [3], [3], [1], [3], [1], [2], [1], [2], [1], [3], [3], [3], [1], [3], [1], [2], [1], [1], [2], [2], [1], [1], [2], [3], [2], [3], [3], [3], [2], [0], [0], [3], [3], [0], [1], [1], [2], [1], [0], [2], [3], [3], [3], [3], [1], [3], [0], [2]]\n"
     ]
    }
   ],
   "source": [
    "print (labels)"
   ]
  },
  {
   "cell_type": "code",
   "execution_count": 5,
   "id": "ed167625",
   "metadata": {},
   "outputs": [],
   "source": [
    "## pre-processing\n",
    "data = np.array(data, dtype=\"float\") / 255.0\n",
    "labels = np.array(labels)\n",
    "\n",
    "## split dataset for training and validation\n",
    "x_train,x_test,y_train,y_test = train_test_split(data, labels,\n",
    "test_size=0.2)\n",
    "\n",
    "## converting into categorical labels\n",
    "y_train = to_categorical(y_train, num_classes=4)\n",
    "y_test = to_categorical(y_test, num_classes=4)"
   ]
  },
  {
   "cell_type": "code",
   "execution_count": 6,
   "id": "169a2cad",
   "metadata": {},
   "outputs": [],
   "source": [
    "#CNN model\n",
    "\n",
    "model_cnn = models.Sequential([\n",
    "        #cnn\n",
    "        layers.Conv2D(filters=32, kernel_size=(3,3), activation='relu', input_shape=(250,250,3)),\n",
    "        layers.MaxPool2D((2,2)),\n",
    "\n",
    "        layers.Conv2D(filters=64, kernel_size=(3,3), activation='relu'),\n",
    "        layers.MaxPool2D((2,2)),\n",
    "        \n",
    "        layers.Conv2D(filters=64, kernel_size=(3,3), activation='relu'),\n",
    "        layers.MaxPool2D((2,2)),\n",
    "        \n",
    "        layers.Conv2D(filters=128, kernel_size=(3,3), activation='relu'),\n",
    "        layers.MaxPool2D((2,2)),\n",
    "\n",
    "        #Dense\n",
    "\n",
    "        layers.Flatten(),\n",
    "        layers.Dense(64, activation='relu'),\n",
    "        #layers.Dropout(0.5),\n",
    "        layers.Dense(4, activation='softmax')             \n",
    "])"
   ]
  },
  {
   "cell_type": "code",
   "execution_count": 7,
   "id": "81392b09",
   "metadata": {},
   "outputs": [],
   "source": [
    "#Compiling model\n",
    "model_cnn.compile(loss='categorical_crossentropy',\n",
    "              optimizer=optimizers.Adam(learning_rate=1e-4),\n",
    "              metrics=['acc'])"
   ]
  },
  {
   "cell_type": "code",
   "execution_count": 8,
   "id": "861884af",
   "metadata": {},
   "outputs": [
    {
     "name": "stdout",
     "output_type": "stream",
     "text": [
      "Epoch 1/30\n",
      "22/22 [==============================] - 34s 2s/step - loss: 1.3769 - acc: 0.2754\n",
      "Epoch 2/30\n",
      "22/22 [==============================] - 37s 2s/step - loss: 1.3037 - acc: 0.3522\n",
      "Epoch 3/30\n",
      "22/22 [==============================] - 33s 2s/step - loss: 1.1004 - acc: 0.6011\n",
      "Epoch 4/30\n",
      "22/22 [==============================] - 32s 1s/step - loss: 0.8963 - acc: 0.6532\n",
      "Epoch 5/30\n",
      "22/22 [==============================] - 33s 2s/step - loss: 0.7577 - acc: 0.7054\n",
      "Epoch 6/30\n",
      "22/22 [==============================] - 33s 2s/step - loss: 0.6362 - acc: 0.7585\n",
      "Epoch 7/30\n",
      "22/22 [==============================] - 32s 1s/step - loss: 0.5856 - acc: 0.7887\n",
      "Epoch 8/30\n",
      "22/22 [==============================] - 33s 1s/step - loss: 0.5317 - acc: 0.8097\n",
      "Epoch 9/30\n",
      "22/22 [==============================] - 33s 1s/step - loss: 0.5075 - acc: 0.8088\n",
      "Epoch 10/30\n",
      "22/22 [==============================] - 33s 1s/step - loss: 0.4615 - acc: 0.8390\n",
      "Epoch 11/30\n",
      "22/22 [==============================] - 32s 1s/step - loss: 0.4214 - acc: 0.8527\n",
      "Epoch 12/30\n",
      "22/22 [==============================] - 31s 1s/step - loss: 0.3896 - acc: 0.8591\n",
      "Epoch 13/30\n",
      "22/22 [==============================] - 37s 2s/step - loss: 0.3928 - acc: 0.8582\n",
      "Epoch 14/30\n",
      "22/22 [==============================] - 34s 2s/step - loss: 0.3668 - acc: 0.8719\n",
      "Epoch 15/30\n",
      "22/22 [==============================] - 36s 2s/step - loss: 0.3414 - acc: 0.8792\n",
      "Epoch 16/30\n",
      "22/22 [==============================] - 34s 2s/step - loss: 0.3278 - acc: 0.8783\n",
      "Epoch 17/30\n",
      "22/22 [==============================] - 33s 2s/step - loss: 0.3312 - acc: 0.8756\n",
      "Epoch 18/30\n",
      "22/22 [==============================] - 32s 1s/step - loss: 0.3117 - acc: 0.8975\n",
      "Epoch 19/30\n",
      "22/22 [==============================] - 32s 1s/step - loss: 0.2906 - acc: 0.8930\n",
      "Epoch 20/30\n",
      "22/22 [==============================] - 32s 1s/step - loss: 0.2854 - acc: 0.9030\n",
      "Epoch 21/30\n",
      "22/22 [==============================] - 32s 1s/step - loss: 0.2719 - acc: 0.9048\n",
      "Epoch 22/30\n",
      "22/22 [==============================] - 32s 1s/step - loss: 0.2309 - acc: 0.9268\n",
      "Epoch 23/30\n",
      "22/22 [==============================] - 31s 1s/step - loss: 0.2320 - acc: 0.9241\n",
      "Epoch 24/30\n",
      "22/22 [==============================] - 31s 1s/step - loss: 0.2090 - acc: 0.9314\n",
      "Epoch 25/30\n",
      "22/22 [==============================] - 31s 1s/step - loss: 0.2059 - acc: 0.9350\n",
      "Epoch 26/30\n",
      "22/22 [==============================] - 31s 1s/step - loss: 0.1836 - acc: 0.9360\n",
      "Epoch 27/30\n",
      "22/22 [==============================] - 31s 1s/step - loss: 0.1684 - acc: 0.9469\n",
      "Epoch 28/30\n",
      "22/22 [==============================] - 32s 1s/step - loss: 0.1553 - acc: 0.9524\n",
      "Epoch 29/30\n",
      "22/22 [==============================] - 33s 1s/step - loss: 0.1620 - acc: 0.9469\n",
      "Epoch 30/30\n",
      "22/22 [==============================] - 32s 1s/step - loss: 0.1611 - acc: 0.9460\n"
     ]
    }
   ],
   "source": [
    "#Model fitting\n",
    "history=model_cnn.fit(x_train, y_train, epochs=30, batch_size=50, \n",
    "          #validation_split = 0.2,\n",
    "          verbose=1,)"
   ]
  },
  {
   "cell_type": "code",
   "execution_count": 9,
   "id": "3e367d25",
   "metadata": {},
   "outputs": [
    {
     "name": "stdout",
     "output_type": "stream",
     "text": [
      "9/9 [==============================] - 2s 234ms/step - loss: 0.3521 - acc: 0.8905\n"
     ]
    },
    {
     "data": {
      "text/plain": [
       "[0.35214924812316895, 0.8905109763145447]"
      ]
     },
     "execution_count": 9,
     "metadata": {},
     "output_type": "execute_result"
    }
   ],
   "source": [
    "#Model Evaluation\n",
    "model_cnn.evaluate(x_test,y_test)"
   ]
  },
  {
   "cell_type": "code",
   "execution_count": 10,
   "id": "e1c3642d",
   "metadata": {},
   "outputs": [
    {
     "name": "stdout",
     "output_type": "stream",
     "text": [
      "9/9 [==============================] - 2s 243ms/step - loss: 0.3521 - acc: 0.8905\n",
      "[0.35214924812316895, 0.8905109763145447]\n",
      "Baseline Error: 10.95%\n"
     ]
    }
   ],
   "source": [
    "Y_pred = model_cnn.predict([x_test])\n",
    "y_pred=np.argmax(Y_pred, axis=1)\n",
    "loss= model_cnn.evaluate( x_test,y_test)\n",
    "print(loss)\n",
    "print(\"Baseline Error: %.2f%%\" % (100-loss[1]*100))"
   ]
  },
  {
   "cell_type": "code",
   "execution_count": 11,
   "id": "71893ad9",
   "metadata": {},
   "outputs": [],
   "source": [
    "Y_test=np.argmax(y_test, axis=1)"
   ]
  },
  {
   "cell_type": "code",
   "execution_count": 12,
   "id": "aec8d4cb",
   "metadata": {},
   "outputs": [
    {
     "data": {
      "text/plain": [
       "0.8905109489051095"
      ]
     },
     "execution_count": 12,
     "metadata": {},
     "output_type": "execute_result"
    }
   ],
   "source": [
    "#Accuracy calculation\n",
    "accuracy_score(Y_test, np.argmax(Y_pred, axis=1))"
   ]
  },
  {
   "cell_type": "code",
   "execution_count": 13,
   "id": "04f850e5",
   "metadata": {},
   "outputs": [
    {
     "data": {
      "text/plain": [
       "([<matplotlib.axis.YTick at 0x25b0364b3d0>,\n",
       "  <matplotlib.axis.YTick at 0x25b71915520>,\n",
       "  <matplotlib.axis.YTick at 0x25b719ab760>,\n",
       "  <matplotlib.axis.YTick at 0x25b719c8a30>],\n",
       " [Text(0, 0.5, 'Tree1'),\n",
       "  Text(0, 1.5, 'Tree2'),\n",
       "  Text(0, 2.5, 'Tree3'),\n",
       "  Text(0, 3.5, 'Tree4')])"
      ]
     },
     "execution_count": 13,
     "metadata": {},
     "output_type": "execute_result"
    },
    {
     "data": {
      "image/png": "[encoded data removed]",
      "text/plain": [
       "<Figure size 504x432 with 2 Axes>"
      ]
     },
     "metadata": {
      "needs_background": "light"
     },
     "output_type": "display_data"
    }
   ],
   "source": [
    "#Confusion matrix\n",
    "\n",
    "matrix= confusion_matrix(Y_test, y_pred)\n",
    "\n",
    "class_names=['Tree1', 'Tree2', 'Tree3', 'Tree4'] # name  of classes\n",
    "fig, ax = plt.subplots(figsize=(7, 6))\n",
    "sns.heatmap(pd.DataFrame(matrix), annot=True, cmap=\"Blues\", fmt='g')\n",
    "ax.xaxis.set_label_position(\"top\")\n",
    "plt.tight_layout()\n",
    "plt.title('Confusion matrix')\n",
    "plt.xlabel('Predicted label') \n",
    "plt.ylabel('Actual label')\n",
    "tick_marks = [0.5, 1.5,2.5,3.5]\n",
    "plt.xticks(tick_marks, class_names) \n",
    "plt.yticks(tick_marks, class_names)"
   ]
  },
  {
   "cell_type": "code",
   "execution_count": 14,
   "id": "05258dd2",
   "metadata": {},
   "outputs": [
    {
     "name": "stdout",
     "output_type": "stream",
     "text": [
      "              precision    recall  f1-score   support\n",
      "\n",
      "           0       0.94      0.92      0.93        53\n",
      "           1       0.87      0.73      0.79        62\n",
      "           2       0.90      0.93      0.92        70\n",
      "           3       0.87      0.96      0.91        89\n",
      "\n",
      "    accuracy                           0.89       274\n",
      "   macro avg       0.89      0.88      0.89       274\n",
      "weighted avg       0.89      0.89      0.89       274\n",
      "\n"
     ]
    }
   ],
   "source": [
    "#Classification report\n",
    "print (classification_report(Y_test, np.argmax(Y_pred, axis=1)))"
   ]
  },
  {
   "cell_type": "code",
   "execution_count": null,
   "id": "77cb60f7",
   "metadata": {},
   "outputs": [],
   "source": []
  }
 ],
 "metadata": {
  "kernelspec": {
   "display_name": "Python 3 (ipykernel)",
   "language": "python",
   "name": "python3"
  },
  "language_info": {
   "codemirror_mode": {
    "name": "ipython",
    "version": 3
   },
   "file_extension": ".py",
   "mimetype": "text/x-python",
   "name": "python",
   "nbconvert_exporter": "python",
   "pygments_lexer": "ipython3",
   "version": "3.11.8"
  }
 },
 "nbformat": 4,
 "nbformat_minor": 5
}
